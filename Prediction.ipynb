{
 "cells": [
  {
   "cell_type": "code",
   "execution_count": 1,
   "metadata": {},
   "outputs": [],
   "source": [
    "### Import the Libraries\n",
    "import numpy as np \n",
    "import tensorflow as tf \n",
    "from tensorflow.keras.datasets import imdb \n",
    "from tensorflow.keras.preprocessing import sequence \n",
    "from tensorflow.keras.models import Sequential \n",
    "from tensorflow.keras.layers import Embedding , SimpleRNN ,Dense  \n",
    "from keras.models import load_model\n",
    "import warnings \n",
    "warnings.filterwarnings('ignore')"
   ]
  },
  {
   "cell_type": "code",
   "execution_count": 2,
   "metadata": {},
   "outputs": [],
   "source": [
    "### Load The IMDB dataset word Index \n",
    "word_index=imdb.get_word_index()\n",
    "reverse_word_index={ value:key for key,value in word_index .items()}"
   ]
  },
  {
   "cell_type": "code",
   "execution_count": 3,
   "metadata": {},
   "outputs": [
    {
     "name": "stderr",
     "output_type": "stream",
     "text": [
      "WARNING:absl:Compiled the loaded model, but the compiled metrics have yet to be built. `model.compile_metrics` will be empty until you train or evaluate the model.\n"
     ]
    },
    {
     "data": {
      "text/html": [
       "<pre style=\"white-space:pre;overflow-x:auto;line-height:normal;font-family:Menlo,'DejaVu Sans Mono',consolas,'Courier New',monospace\"><span style=\"font-weight: bold\">Model: \"sequential_1\"</span>\n",
       "</pre>\n"
      ],
      "text/plain": [
       "\u001b[1mModel: \"sequential_1\"\u001b[0m\n"
      ]
     },
     "metadata": {},
     "output_type": "display_data"
    },
    {
     "data": {
      "text/html": [
       "<pre style=\"white-space:pre;overflow-x:auto;line-height:normal;font-family:Menlo,'DejaVu Sans Mono',consolas,'Courier New',monospace\">┏━━━━━━━━━━━━━━━━━━━━━━━━━━━━━━━━━┳━━━━━━━━━━━━━━━━━━━━━━━━┳━━━━━━━━━━━━━━━┓\n",
       "┃<span style=\"font-weight: bold\"> Layer (type)                    </span>┃<span style=\"font-weight: bold\"> Output Shape           </span>┃<span style=\"font-weight: bold\">       Param # </span>┃\n",
       "┡━━━━━━━━━━━━━━━━━━━━━━━━━━━━━━━━━╇━━━━━━━━━━━━━━━━━━━━━━━━╇━━━━━━━━━━━━━━━┩\n",
       "│ embedding_1 (<span style=\"color: #0087ff; text-decoration-color: #0087ff\">Embedding</span>)         │ (<span style=\"color: #00af00; text-decoration-color: #00af00\">32</span>, <span style=\"color: #00af00; text-decoration-color: #00af00\">500</span>, <span style=\"color: #00af00; text-decoration-color: #00af00\">128</span>)         │     <span style=\"color: #00af00; text-decoration-color: #00af00\">1,280,000</span> │\n",
       "├─────────────────────────────────┼────────────────────────┼───────────────┤\n",
       "│ simple_rnn_1 (<span style=\"color: #0087ff; text-decoration-color: #0087ff\">SimpleRNN</span>)        │ (<span style=\"color: #00af00; text-decoration-color: #00af00\">32</span>, <span style=\"color: #00af00; text-decoration-color: #00af00\">128</span>)              │        <span style=\"color: #00af00; text-decoration-color: #00af00\">32,896</span> │\n",
       "├─────────────────────────────────┼────────────────────────┼───────────────┤\n",
       "│ dense_1 (<span style=\"color: #0087ff; text-decoration-color: #0087ff\">Dense</span>)                 │ (<span style=\"color: #00af00; text-decoration-color: #00af00\">32</span>, <span style=\"color: #00af00; text-decoration-color: #00af00\">1</span>)                │           <span style=\"color: #00af00; text-decoration-color: #00af00\">129</span> │\n",
       "└─────────────────────────────────┴────────────────────────┴───────────────┘\n",
       "</pre>\n"
      ],
      "text/plain": [
       "┏━━━━━━━━━━━━━━━━━━━━━━━━━━━━━━━━━┳━━━━━━━━━━━━━━━━━━━━━━━━┳━━━━━━━━━━━━━━━┓\n",
       "┃\u001b[1m \u001b[0m\u001b[1mLayer (type)                   \u001b[0m\u001b[1m \u001b[0m┃\u001b[1m \u001b[0m\u001b[1mOutput Shape          \u001b[0m\u001b[1m \u001b[0m┃\u001b[1m \u001b[0m\u001b[1m      Param #\u001b[0m\u001b[1m \u001b[0m┃\n",
       "┡━━━━━━━━━━━━━━━━━━━━━━━━━━━━━━━━━╇━━━━━━━━━━━━━━━━━━━━━━━━╇━━━━━━━━━━━━━━━┩\n",
       "│ embedding_1 (\u001b[38;5;33mEmbedding\u001b[0m)         │ (\u001b[38;5;34m32\u001b[0m, \u001b[38;5;34m500\u001b[0m, \u001b[38;5;34m128\u001b[0m)         │     \u001b[38;5;34m1,280,000\u001b[0m │\n",
       "├─────────────────────────────────┼────────────────────────┼───────────────┤\n",
       "│ simple_rnn_1 (\u001b[38;5;33mSimpleRNN\u001b[0m)        │ (\u001b[38;5;34m32\u001b[0m, \u001b[38;5;34m128\u001b[0m)              │        \u001b[38;5;34m32,896\u001b[0m │\n",
       "├─────────────────────────────────┼────────────────────────┼───────────────┤\n",
       "│ dense_1 (\u001b[38;5;33mDense\u001b[0m)                 │ (\u001b[38;5;34m32\u001b[0m, \u001b[38;5;34m1\u001b[0m)                │           \u001b[38;5;34m129\u001b[0m │\n",
       "└─────────────────────────────────┴────────────────────────┴───────────────┘\n"
      ]
     },
     "metadata": {},
     "output_type": "display_data"
    },
    {
     "data": {
      "text/html": [
       "<pre style=\"white-space:pre;overflow-x:auto;line-height:normal;font-family:Menlo,'DejaVu Sans Mono',consolas,'Courier New',monospace\"><span style=\"font-weight: bold\"> Total params: </span><span style=\"color: #00af00; text-decoration-color: #00af00\">1,313,027</span> (5.01 MB)\n",
       "</pre>\n"
      ],
      "text/plain": [
       "\u001b[1m Total params: \u001b[0m\u001b[38;5;34m1,313,027\u001b[0m (5.01 MB)\n"
      ]
     },
     "metadata": {},
     "output_type": "display_data"
    },
    {
     "data": {
      "text/html": [
       "<pre style=\"white-space:pre;overflow-x:auto;line-height:normal;font-family:Menlo,'DejaVu Sans Mono',consolas,'Courier New',monospace\"><span style=\"font-weight: bold\"> Trainable params: </span><span style=\"color: #00af00; text-decoration-color: #00af00\">1,313,025</span> (5.01 MB)\n",
       "</pre>\n"
      ],
      "text/plain": [
       "\u001b[1m Trainable params: \u001b[0m\u001b[38;5;34m1,313,025\u001b[0m (5.01 MB)\n"
      ]
     },
     "metadata": {},
     "output_type": "display_data"
    },
    {
     "data": {
      "text/html": [
       "<pre style=\"white-space:pre;overflow-x:auto;line-height:normal;font-family:Menlo,'DejaVu Sans Mono',consolas,'Courier New',monospace\"><span style=\"font-weight: bold\"> Non-trainable params: </span><span style=\"color: #00af00; text-decoration-color: #00af00\">0</span> (0.00 B)\n",
       "</pre>\n"
      ],
      "text/plain": [
       "\u001b[1m Non-trainable params: \u001b[0m\u001b[38;5;34m0\u001b[0m (0.00 B)\n"
      ]
     },
     "metadata": {},
     "output_type": "display_data"
    },
    {
     "data": {
      "text/html": [
       "<pre style=\"white-space:pre;overflow-x:auto;line-height:normal;font-family:Menlo,'DejaVu Sans Mono',consolas,'Courier New',monospace\"><span style=\"font-weight: bold\"> Optimizer params: </span><span style=\"color: #00af00; text-decoration-color: #00af00\">2</span> (12.00 B)\n",
       "</pre>\n"
      ],
      "text/plain": [
       "\u001b[1m Optimizer params: \u001b[0m\u001b[38;5;34m2\u001b[0m (12.00 B)\n"
      ]
     },
     "metadata": {},
     "output_type": "display_data"
    }
   ],
   "source": [
    "### Load my per_Trained Model \n",
    "try:\n",
    "    model = load_model('simple_rnn_imdb.h5')\n",
    "    model.summary()\n",
    "    model.get_weights()\n",
    "except AttributeError as e:\n",
    "    print(f\"Error loading model: {e}\")"
   ]
  },
  {
   "cell_type": "code",
   "execution_count": 4,
   "metadata": {},
   "outputs": [
    {
     "data": {
      "text/plain": [
       "[array([[-0.24312292, -0.0553685 , -0.0367671 , ...,  0.09546757,\n",
       "         -0.10692685,  0.0486019 ],\n",
       "        [-0.02479125,  0.00161153,  0.0054737 , ...,  0.10575707,\n",
       "          0.0038887 ,  0.00194358],\n",
       "        [-0.0524838 ,  0.00626661, -0.04550253, ...,  0.06567983,\n",
       "          0.02157523,  0.01633819],\n",
       "        ...,\n",
       "        [ 0.00798336, -0.03358391, -0.04792982, ...,  0.04397203,\n",
       "         -0.03501399, -0.02732827],\n",
       "        [-0.15326823,  0.01689448,  0.03004961, ..., -0.08078499,\n",
       "         -0.00417875, -0.0448875 ],\n",
       "        [ 0.15614097, -0.22566555,  0.11935121, ..., -0.23370509,\n",
       "          0.02296043,  0.17586641]], dtype=float32),\n",
       " array([[ 0.10158961, -0.08168375, -0.06505252, ...,  0.08464879,\n",
       "         -0.06157224,  0.09620009],\n",
       "        [-0.1714219 , -0.01079768,  0.11327282, ...,  0.1117316 ,\n",
       "         -0.13534175, -0.07708623],\n",
       "        [ 0.08625787,  0.02526727, -0.14987627, ..., -0.00279056,\n",
       "          0.10973419, -0.0800075 ],\n",
       "        ...,\n",
       "        [ 0.08363484, -0.09463371,  0.09070855, ..., -0.07804518,\n",
       "          0.08880705, -0.12883157],\n",
       "        [-0.02528366,  0.12419572, -0.11915001, ..., -0.05507961,\n",
       "          0.14078887,  0.01436353],\n",
       "        [-0.119222  , -0.00338582, -0.02851372, ..., -0.07479388,\n",
       "         -0.03286744,  0.15266007]], dtype=float32),\n",
       " array([[-0.18291691,  0.1775916 ,  0.0188909 , ..., -0.14561127,\n",
       "         -0.00899978,  0.09708057],\n",
       "        [-0.05822195, -0.08730085, -0.0027126 , ..., -0.10624714,\n",
       "          0.08226898,  0.01161682],\n",
       "        [-0.00402619, -0.07803122,  0.08848619, ..., -0.0328407 ,\n",
       "         -0.14930321, -0.03369242],\n",
       "        ...,\n",
       "        [ 0.08672529,  0.07083099, -0.00589867, ..., -0.01493812,\n",
       "         -0.01224221, -0.10428926],\n",
       "        [ 0.07953833,  0.03088992, -0.1026183 , ...,  0.04198149,\n",
       "         -0.04312578,  0.06859621],\n",
       "        [-0.00571763,  0.07744908,  0.13084072, ...,  0.10412382,\n",
       "          0.13217872, -0.0077506 ]], dtype=float32),\n",
       " array([-9.71454254e-04,  3.10460432e-03,  2.49004969e-03,  2.04347842e-03,\n",
       "        -1.57355014e-02, -3.35313217e-03,  1.13914395e-02, -1.15619823e-02,\n",
       "        -5.97163476e-03,  1.10460073e-02,  1.39640858e-02,  2.92786025e-02,\n",
       "        -5.03346045e-03,  1.21303555e-02,  2.73985639e-02,  2.83413962e-03,\n",
       "        -3.01491033e-04, -5.53215742e-02,  2.10393723e-02,  3.07593904e-02,\n",
       "        -2.42185802e-03, -2.04159413e-02,  1.49356686e-02,  3.67610864e-02,\n",
       "         1.75580289e-02,  3.02425073e-03,  1.87318604e-02,  2.16625743e-02,\n",
       "        -4.94408933e-03, -1.92145575e-02,  2.03947965e-02, -1.23985019e-02,\n",
       "        -6.65342249e-03, -1.48393884e-02, -3.30533460e-03,  2.26862580e-02,\n",
       "        -7.44355703e-03, -1.21338600e-02,  1.41371908e-02, -8.69167596e-03,\n",
       "         2.53901817e-03,  8.58430378e-03,  1.20143918e-02, -1.68864280e-02,\n",
       "        -1.33626787e-02,  1.96271148e-02, -9.06371791e-03, -6.03314443e-03,\n",
       "         2.74236761e-02, -1.87628921e-02,  7.06453575e-05,  2.10060291e-02,\n",
       "        -1.93973742e-02, -5.77272614e-03, -1.95086244e-02, -1.94176173e-04,\n",
       "        -6.09296560e-03, -1.32550076e-02, -2.29483913e-03,  2.90388502e-02,\n",
       "        -1.42131308e-02,  1.93028226e-02,  2.17816494e-02,  1.15575334e-02,\n",
       "         4.17036936e-03,  1.60071235e-02,  6.71913661e-03, -7.59569276e-03,\n",
       "         1.18732138e-03, -1.28345350e-02, -2.16201134e-03,  3.03124823e-02,\n",
       "        -9.62114427e-03, -1.60808861e-02,  7.49418791e-03, -2.58678861e-04,\n",
       "         8.08903109e-03, -4.45162458e-03,  1.05301933e-02,  1.47277797e-02,\n",
       "        -1.24559896e-02,  1.79514177e-02, -1.61664467e-02, -5.20790741e-03,\n",
       "        -6.92903483e-03, -6.37797546e-03,  1.96764171e-02,  3.19219171e-03,\n",
       "         8.40597600e-03,  2.23254524e-02, -1.48795778e-02, -8.93802568e-03,\n",
       "         7.23159919e-03, -1.36774685e-02, -4.43429407e-03, -2.84771901e-03,\n",
       "         1.98303517e-02,  2.26209853e-02,  1.53215080e-02,  9.93290264e-03,\n",
       "        -1.51279895e-02, -1.70816369e-02, -1.48474413e-03, -1.67537970e-03,\n",
       "        -4.43158811e-03, -3.67696816e-03, -6.99597085e-03, -5.72257070e-03,\n",
       "        -3.79898306e-03,  7.00079091e-03,  6.50270563e-03,  3.40417773e-02,\n",
       "        -6.42249221e-03,  1.68196820e-02, -1.75722297e-02, -5.74979000e-03,\n",
       "         3.89972106e-02, -1.46832876e-02, -1.16501460e-02,  2.42056008e-02,\n",
       "        -3.70055949e-03, -2.74838484e-03, -1.20742079e-02, -1.58518963e-02,\n",
       "        -8.67587235e-03,  2.74254307e-02,  6.17857464e-03, -2.26363470e-03],\n",
       "       dtype=float32),\n",
       " array([[ 0.15452804],\n",
       "        [ 0.06998466],\n",
       "        [-0.41880852],\n",
       "        [ 0.17199875],\n",
       "        [-0.0166736 ],\n",
       "        [-0.18384318],\n",
       "        [-0.26947606],\n",
       "        [ 0.2209807 ],\n",
       "        [-0.0879582 ],\n",
       "        [ 0.02962633],\n",
       "        [ 0.16483548],\n",
       "        [ 0.04981737],\n",
       "        [ 0.1232393 ],\n",
       "        [ 0.1161807 ],\n",
       "        [-0.17101836],\n",
       "        [ 0.11778687],\n",
       "        [-0.15444797],\n",
       "        [-0.04101059],\n",
       "        [ 0.00141089],\n",
       "        [-0.11957392],\n",
       "        [-0.11346509],\n",
       "        [-0.00197205],\n",
       "        [-0.00637526],\n",
       "        [ 0.06432122],\n",
       "        [ 0.10410462],\n",
       "        [ 0.08418186],\n",
       "        [ 0.13496113],\n",
       "        [ 0.20240733],\n",
       "        [-0.06062119],\n",
       "        [-0.15700097],\n",
       "        [ 0.10162987],\n",
       "        [-0.06147412],\n",
       "        [-0.32833377],\n",
       "        [-0.5046952 ],\n",
       "        [-0.06222957],\n",
       "        [-0.12383366],\n",
       "        [-0.09735864],\n",
       "        [-0.2213937 ],\n",
       "        [ 0.00966981],\n",
       "        [-0.20254914],\n",
       "        [-0.21856369],\n",
       "        [-0.00755793],\n",
       "        [ 0.23197798],\n",
       "        [-0.10997045],\n",
       "        [-0.21819578],\n",
       "        [ 0.13672622],\n",
       "        [-0.09141885],\n",
       "        [-0.09890664],\n",
       "        [ 0.01443918],\n",
       "        [-0.07846132],\n",
       "        [ 0.04992995],\n",
       "        [-0.00831342],\n",
       "        [-0.23952195],\n",
       "        [ 0.10920142],\n",
       "        [ 0.03778852],\n",
       "        [-0.22108926],\n",
       "        [ 0.13351434],\n",
       "        [ 0.10460307],\n",
       "        [ 0.1016808 ],\n",
       "        [ 0.11536845],\n",
       "        [-0.20449187],\n",
       "        [ 0.19406974],\n",
       "        [ 0.16027625],\n",
       "        [ 0.13691032],\n",
       "        [-0.0077908 ],\n",
       "        [-0.02530019],\n",
       "        [-0.13542101],\n",
       "        [-0.11696224],\n",
       "        [-0.08295041],\n",
       "        [ 0.00394522],\n",
       "        [-0.17803812],\n",
       "        [ 0.09869727],\n",
       "        [-0.06986115],\n",
       "        [-0.2577378 ],\n",
       "        [-0.99966663],\n",
       "        [ 0.12005246],\n",
       "        [-0.09605785],\n",
       "        [ 0.03213989],\n",
       "        [ 0.18335478],\n",
       "        [-0.01666216],\n",
       "        [-0.06186499],\n",
       "        [-0.16274415],\n",
       "        [ 0.02874625],\n",
       "        [ 0.15632519],\n",
       "        [-0.14546856],\n",
       "        [-0.04309877],\n",
       "        [ 0.07695625],\n",
       "        [ 0.18174839],\n",
       "        [ 0.10761406],\n",
       "        [ 0.09955792],\n",
       "        [-0.16161989],\n",
       "        [-0.06112648],\n",
       "        [-0.15225986],\n",
       "        [ 0.0251137 ],\n",
       "        [-0.06675234],\n",
       "        [-0.0150859 ],\n",
       "        [ 0.04112416],\n",
       "        [ 0.19232748],\n",
       "        [-0.06806026],\n",
       "        [-0.18423343],\n",
       "        [-0.05191172],\n",
       "        [-0.03828837],\n",
       "        [-0.08848432],\n",
       "        [-0.17234018],\n",
       "        [-0.07266149],\n",
       "        [ 0.01300691],\n",
       "        [-0.2236466 ],\n",
       "        [-0.19236752],\n",
       "        [-0.18125643],\n",
       "        [-1.3229628 ],\n",
       "        [ 0.03333236],\n",
       "        [ 0.03577134],\n",
       "        [ 0.02409293],\n",
       "        [-0.02125304],\n",
       "        [-0.4761315 ],\n",
       "        [-0.10982563],\n",
       "        [ 0.17940849],\n",
       "        [ 0.03489742],\n",
       "        [-0.01374045],\n",
       "        [ 0.10179066],\n",
       "        [-0.16901039],\n",
       "        [-0.0402046 ],\n",
       "        [ 0.02683061],\n",
       "        [-0.1730355 ],\n",
       "        [-0.01997459],\n",
       "        [ 0.08728185],\n",
       "        [ 0.1453694 ],\n",
       "        [-0.07288685]], dtype=float32),\n",
       " array([-1.0772386], dtype=float32)]"
      ]
     },
     "execution_count": 4,
     "metadata": {},
     "output_type": "execute_result"
    }
   ],
   "source": [
    "model.get_weights()"
   ]
  },
  {
   "cell_type": "code",
   "execution_count": 5,
   "metadata": {},
   "outputs": [],
   "source": [
    "## Step 2 \n",
    "def decode_review(encoded_review):\n",
    "    return \" \".join([reverse_word_index.get(i-3,'?') for i in encoded_review])\n",
    "\n",
    "\n",
    "def preprocessing_text(text):\n",
    "    words=text.lower().split()\n",
    "    encoded_review=[word_index.get(word,2) + 3 for word in words]\n",
    "    padded_review=sequence.pad_sequences([encoded_review],maxlen=500)\n",
    "    return padded_review"
   ]
  },
  {
   "cell_type": "code",
   "execution_count": 6,
   "metadata": {},
   "outputs": [],
   "source": [
    "### Prediction Function \n",
    "def predict_sentiment(review):\n",
    "   preprocessed_input=preprocessing_text(review)\n",
    "   prediction=model.predict(preprocessed_input)\n",
    "   sentiment='Posative' if prediction[0][0] >0.5 else 'Negative'\n",
    "   return sentiment , prediction[0][0] "
   ]
  },
  {
   "cell_type": "code",
   "execution_count": 7,
   "metadata": {},
   "outputs": [
    {
     "name": "stdout",
     "output_type": "stream",
     "text": [
      "\u001b[1m1/1\u001b[0m \u001b[32m━━━━━━━━━━━━━━━━━━━━\u001b[0m\u001b[37m\u001b[0m \u001b[1m0s\u001b[0m 224ms/step\n",
      "Review: The Movie was fantastic! The Acting was great and the plot was thrilling\n",
      "Sentiment: Posative\n",
      "prediction Score: 0.5108118653297424\n"
     ]
    }
   ],
   "source": [
    "### User input\n",
    "### Take An Examples \n",
    "example_review=\"The Movie was fantastic! The Acting was great and the plot was thrilling\"\n",
    "sentiment,score=predict_sentiment(example_review)\n",
    "\n",
    "print(f'Review: {example_review}')\n",
    "print(f'Sentiment: {sentiment}')\n",
    "print(f'prediction Score: {score}')"
   ]
  }
 ],
 "metadata": {
  "kernelspec": {
   "display_name": "base",
   "language": "python",
   "name": "python3"
  },
  "language_info": {
   "codemirror_mode": {
    "name": "ipython",
    "version": 3
   },
   "file_extension": ".py",
   "mimetype": "text/x-python",
   "name": "python",
   "nbconvert_exporter": "python",
   "pygments_lexer": "ipython3",
   "version": "3.12.4"
  }
 },
 "nbformat": 4,
 "nbformat_minor": 2
}
